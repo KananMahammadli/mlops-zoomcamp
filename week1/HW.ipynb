{
 "cells": [
  {
   "cell_type": "code",
   "execution_count": 187,
   "id": "f3feeb03",
   "metadata": {},
   "outputs": [],
   "source": [
    "# importing necessary libraries\n",
    "import pandas as pd\n",
    "import seaborn as sns\n",
    "import matplotlib.pyplot as plt\n",
    "\n",
    "import warnings\n",
    "warnings.filterwarnings('ignore')"
   ]
  },
  {
   "cell_type": "code",
   "execution_count": 188,
   "id": "3eb4c26c",
   "metadata": {},
   "outputs": [],
   "source": [
    "from sklearn.feature_extraction import DictVectorizer\n",
    "from sklearn.linear_model import LinearRegression\n",
    "\n",
    "from sklearn.metrics import mean_squared_error"
   ]
  },
  {
   "cell_type": "code",
   "execution_count": 189,
   "id": "32d86a6c",
   "metadata": {},
   "outputs": [],
   "source": [
    "# defining training and validation dataset paths\n",
    "train_path = './data/fhv_tripdata_2021-01.parquet'\n",
    "val_path = './data/fhv_tripdata_2021-02.parquet'"
   ]
  },
  {
   "cell_type": "markdown",
   "id": "d52b8b6b",
   "metadata": {},
   "source": [
    "# Q1\n",
    "Read the data for January. How many records are there?\n",
    "\n",
    "A) 1054112\n",
    "B) 1154112\n",
    "C) 1254112\n",
    "D) 1354112"
   ]
  },
  {
   "cell_type": "code",
   "execution_count": 190,
   "id": "45a97ea0",
   "metadata": {},
   "outputs": [],
   "source": [
    "def read_df(path):\n",
    "    df = pd.read_parquet(path)\n",
    "    return df"
   ]
  },
  {
   "cell_type": "code",
   "execution_count": 191,
   "id": "327bc277",
   "metadata": {},
   "outputs": [
    {
     "name": "stdout",
     "output_type": "stream",
     "text": [
      "Number of records in January data: 1154112\n"
     ]
    }
   ],
   "source": [
    "# read January data\n",
    "df_train = read_df(train_path)\n",
    "print(f'Number of records in January data: {df_train.shape[0]}')"
   ]
  },
  {
   "cell_type": "markdown",
   "id": "ea49cb84",
   "metadata": {},
   "source": [
    "**Answer: B**"
   ]
  },
  {
   "cell_type": "markdown",
   "id": "ee8a8a23",
   "metadata": {},
   "source": [
    "# Q2"
   ]
  },
  {
   "cell_type": "markdown",
   "id": "57068e5c",
   "metadata": {},
   "source": [
    "What's the average trip duration in January?\n",
    "\n",
    "A) 15.16\n",
    "B) 19.16\n",
    "C) 24.16\n",
    "D) 29.16"
   ]
  },
  {
   "cell_type": "code",
   "execution_count": 192,
   "id": "54b55f67",
   "metadata": {},
   "outputs": [
    {
     "data": {
      "text/html": [
       "<div>\n",
       "<style scoped>\n",
       "    .dataframe tbody tr th:only-of-type {\n",
       "        vertical-align: middle;\n",
       "    }\n",
       "\n",
       "    .dataframe tbody tr th {\n",
       "        vertical-align: top;\n",
       "    }\n",
       "\n",
       "    .dataframe thead th {\n",
       "        text-align: right;\n",
       "    }\n",
       "</style>\n",
       "<table border=\"1\" class=\"dataframe\">\n",
       "  <thead>\n",
       "    <tr style=\"text-align: right;\">\n",
       "      <th></th>\n",
       "      <th>dispatching_base_num</th>\n",
       "      <th>pickup_datetime</th>\n",
       "      <th>dropOff_datetime</th>\n",
       "      <th>PUlocationID</th>\n",
       "      <th>DOlocationID</th>\n",
       "      <th>SR_Flag</th>\n",
       "      <th>Affiliated_base_number</th>\n",
       "    </tr>\n",
       "  </thead>\n",
       "  <tbody>\n",
       "    <tr>\n",
       "      <th>0</th>\n",
       "      <td>B00009</td>\n",
       "      <td>2021-01-01 00:27:00</td>\n",
       "      <td>2021-01-01 00:44:00</td>\n",
       "      <td>NaN</td>\n",
       "      <td>NaN</td>\n",
       "      <td>None</td>\n",
       "      <td>B00009</td>\n",
       "    </tr>\n",
       "    <tr>\n",
       "      <th>1</th>\n",
       "      <td>B00009</td>\n",
       "      <td>2021-01-01 00:50:00</td>\n",
       "      <td>2021-01-01 01:07:00</td>\n",
       "      <td>NaN</td>\n",
       "      <td>NaN</td>\n",
       "      <td>None</td>\n",
       "      <td>B00009</td>\n",
       "    </tr>\n",
       "    <tr>\n",
       "      <th>2</th>\n",
       "      <td>B00013</td>\n",
       "      <td>2021-01-01 00:01:00</td>\n",
       "      <td>2021-01-01 01:51:00</td>\n",
       "      <td>NaN</td>\n",
       "      <td>NaN</td>\n",
       "      <td>None</td>\n",
       "      <td>B00013</td>\n",
       "    </tr>\n",
       "    <tr>\n",
       "      <th>3</th>\n",
       "      <td>B00037</td>\n",
       "      <td>2021-01-01 00:13:09</td>\n",
       "      <td>2021-01-01 00:21:26</td>\n",
       "      <td>NaN</td>\n",
       "      <td>72.0</td>\n",
       "      <td>None</td>\n",
       "      <td>B00037</td>\n",
       "    </tr>\n",
       "    <tr>\n",
       "      <th>4</th>\n",
       "      <td>B00037</td>\n",
       "      <td>2021-01-01 00:38:31</td>\n",
       "      <td>2021-01-01 00:53:44</td>\n",
       "      <td>NaN</td>\n",
       "      <td>61.0</td>\n",
       "      <td>None</td>\n",
       "      <td>B00037</td>\n",
       "    </tr>\n",
       "  </tbody>\n",
       "</table>\n",
       "</div>"
      ],
      "text/plain": [
       "  dispatching_base_num     pickup_datetime    dropOff_datetime  PUlocationID  \\\n",
       "0               B00009 2021-01-01 00:27:00 2021-01-01 00:44:00           NaN   \n",
       "1               B00009 2021-01-01 00:50:00 2021-01-01 01:07:00           NaN   \n",
       "2               B00013 2021-01-01 00:01:00 2021-01-01 01:51:00           NaN   \n",
       "3               B00037 2021-01-01 00:13:09 2021-01-01 00:21:26           NaN   \n",
       "4               B00037 2021-01-01 00:38:31 2021-01-01 00:53:44           NaN   \n",
       "\n",
       "   DOlocationID SR_Flag Affiliated_base_number  \n",
       "0           NaN    None                 B00009  \n",
       "1           NaN    None                 B00009  \n",
       "2           NaN    None                 B00013  \n",
       "3          72.0    None                 B00037  \n",
       "4          61.0    None                 B00037  "
      ]
     },
     "execution_count": 192,
     "metadata": {},
     "output_type": "execute_result"
    }
   ],
   "source": [
    "df_train.head()"
   ]
  },
  {
   "cell_type": "code",
   "execution_count": 193,
   "id": "5522c30c",
   "metadata": {},
   "outputs": [
    {
     "data": {
      "text/plain": [
       "dispatching_base_num              object\n",
       "pickup_datetime           datetime64[ns]\n",
       "dropOff_datetime          datetime64[ns]\n",
       "PUlocationID                     float64\n",
       "DOlocationID                     float64\n",
       "SR_Flag                           object\n",
       "Affiliated_base_number            object\n",
       "dtype: object"
      ]
     },
     "execution_count": 193,
     "metadata": {},
     "output_type": "execute_result"
    }
   ],
   "source": [
    "# checking for datatypes\n",
    "df_train.dtypes"
   ]
  },
  {
   "cell_type": "markdown",
   "id": "5bb93a37",
   "metadata": {},
   "source": [
    "Note that pickup and dropoff time is already in datetime format, so we can directly use them to calculate the duration. However, pickup and dropoff location IDs (which are features we will use) is in float64, because they contain missing values. So we will need to impute the missing values and then convert them into string format so that we can effectively use one-hot encoding"
   ]
  },
  {
   "cell_type": "code",
   "execution_count": 194,
   "id": "4efc22a0",
   "metadata": {},
   "outputs": [],
   "source": [
    "def calculate_duration_in_min(df, pickup_col='pickup_datetime', dropoff_col='dropOff_datetime'):\n",
    "    duration = df[dropoff_col] - df[pickup_col] \n",
    "    # duration is in datetime format too\n",
    "    # total_seconds gives the duration in seconds\n",
    "    # so we should divide the result by 60 to have duration in minutes\n",
    "    \n",
    "    df['duration_in_min'] = duration.apply(lambda x: x.total_seconds() / 60)\n",
    "    return df"
   ]
  },
  {
   "cell_type": "code",
   "execution_count": 195,
   "id": "088532b1",
   "metadata": {},
   "outputs": [
    {
     "data": {
      "text/html": [
       "<div>\n",
       "<style scoped>\n",
       "    .dataframe tbody tr th:only-of-type {\n",
       "        vertical-align: middle;\n",
       "    }\n",
       "\n",
       "    .dataframe tbody tr th {\n",
       "        vertical-align: top;\n",
       "    }\n",
       "\n",
       "    .dataframe thead th {\n",
       "        text-align: right;\n",
       "    }\n",
       "</style>\n",
       "<table border=\"1\" class=\"dataframe\">\n",
       "  <thead>\n",
       "    <tr style=\"text-align: right;\">\n",
       "      <th></th>\n",
       "      <th>dispatching_base_num</th>\n",
       "      <th>pickup_datetime</th>\n",
       "      <th>dropOff_datetime</th>\n",
       "      <th>PUlocationID</th>\n",
       "      <th>DOlocationID</th>\n",
       "      <th>SR_Flag</th>\n",
       "      <th>Affiliated_base_number</th>\n",
       "      <th>duration_in_min</th>\n",
       "    </tr>\n",
       "  </thead>\n",
       "  <tbody>\n",
       "    <tr>\n",
       "      <th>0</th>\n",
       "      <td>B00009</td>\n",
       "      <td>2021-01-01 00:27:00</td>\n",
       "      <td>2021-01-01 00:44:00</td>\n",
       "      <td>NaN</td>\n",
       "      <td>NaN</td>\n",
       "      <td>None</td>\n",
       "      <td>B00009</td>\n",
       "      <td>17.000000</td>\n",
       "    </tr>\n",
       "    <tr>\n",
       "      <th>1</th>\n",
       "      <td>B00009</td>\n",
       "      <td>2021-01-01 00:50:00</td>\n",
       "      <td>2021-01-01 01:07:00</td>\n",
       "      <td>NaN</td>\n",
       "      <td>NaN</td>\n",
       "      <td>None</td>\n",
       "      <td>B00009</td>\n",
       "      <td>17.000000</td>\n",
       "    </tr>\n",
       "    <tr>\n",
       "      <th>2</th>\n",
       "      <td>B00013</td>\n",
       "      <td>2021-01-01 00:01:00</td>\n",
       "      <td>2021-01-01 01:51:00</td>\n",
       "      <td>NaN</td>\n",
       "      <td>NaN</td>\n",
       "      <td>None</td>\n",
       "      <td>B00013</td>\n",
       "      <td>110.000000</td>\n",
       "    </tr>\n",
       "    <tr>\n",
       "      <th>3</th>\n",
       "      <td>B00037</td>\n",
       "      <td>2021-01-01 00:13:09</td>\n",
       "      <td>2021-01-01 00:21:26</td>\n",
       "      <td>NaN</td>\n",
       "      <td>72.0</td>\n",
       "      <td>None</td>\n",
       "      <td>B00037</td>\n",
       "      <td>8.283333</td>\n",
       "    </tr>\n",
       "    <tr>\n",
       "      <th>4</th>\n",
       "      <td>B00037</td>\n",
       "      <td>2021-01-01 00:38:31</td>\n",
       "      <td>2021-01-01 00:53:44</td>\n",
       "      <td>NaN</td>\n",
       "      <td>61.0</td>\n",
       "      <td>None</td>\n",
       "      <td>B00037</td>\n",
       "      <td>15.216667</td>\n",
       "    </tr>\n",
       "  </tbody>\n",
       "</table>\n",
       "</div>"
      ],
      "text/plain": [
       "  dispatching_base_num     pickup_datetime    dropOff_datetime  PUlocationID  \\\n",
       "0               B00009 2021-01-01 00:27:00 2021-01-01 00:44:00           NaN   \n",
       "1               B00009 2021-01-01 00:50:00 2021-01-01 01:07:00           NaN   \n",
       "2               B00013 2021-01-01 00:01:00 2021-01-01 01:51:00           NaN   \n",
       "3               B00037 2021-01-01 00:13:09 2021-01-01 00:21:26           NaN   \n",
       "4               B00037 2021-01-01 00:38:31 2021-01-01 00:53:44           NaN   \n",
       "\n",
       "   DOlocationID SR_Flag Affiliated_base_number  duration_in_min  \n",
       "0           NaN    None                 B00009        17.000000  \n",
       "1           NaN    None                 B00009        17.000000  \n",
       "2           NaN    None                 B00013       110.000000  \n",
       "3          72.0    None                 B00037         8.283333  \n",
       "4          61.0    None                 B00037        15.216667  "
      ]
     },
     "execution_count": 195,
     "metadata": {},
     "output_type": "execute_result"
    }
   ],
   "source": [
    "df_train = calculate_duration_in_min(df_train)\n",
    "df_train.head()"
   ]
  },
  {
   "cell_type": "code",
   "execution_count": 196,
   "id": "56928f07",
   "metadata": {},
   "outputs": [
    {
     "name": "stdout",
     "output_type": "stream",
     "text": [
      "Average trip duration in Januray is: 19.17 minutes\n"
     ]
    }
   ],
   "source": [
    "print(f\"Average trip duration in Januray is: {df_train['duration_in_min'].mean():.2f} minutes\")"
   ]
  },
  {
   "cell_type": "markdown",
   "id": "22408731",
   "metadata": {},
   "source": [
    "**Answer: B**"
   ]
  },
  {
   "cell_type": "markdown",
   "id": "f26e7798",
   "metadata": {},
   "source": [
    "# Data Preperation\n",
    "Check the distribution of the duration variable. There are some outliers.\n",
    "\n",
    "Let's remove them and keep only the records where the duration was between 1 and 60 minutes (inclusive).\n",
    "\n",
    "How many records did you drop?"
   ]
  },
  {
   "cell_type": "code",
   "execution_count": 197,
   "id": "572652d7",
   "metadata": {},
   "outputs": [
    {
     "data": {
      "image/png": "[encoded data removed]",
      "text/plain": [
       "<Figure size 576x432 with 1 Axes>"
      ]
     },
     "metadata": {
      "needs_background": "light"
     },
     "output_type": "display_data"
    }
   ],
   "source": [
    "fig, ax = plt.subplots(figsize=(8, 6))\n",
    "sns.distplot(df_train['duration_in_min'], ax=ax, label='distribution of the duration');"
   ]
  },
  {
   "cell_type": "code",
   "execution_count": 198,
   "id": "0e3e58a2",
   "metadata": {},
   "outputs": [],
   "source": [
    "def remove_outliers(df, target_col='duration_in_min', mn=1, mx=60):\n",
    "    filter_rows = ((df[target_col] >= mn) & (df[target_col] <= mx))\n",
    "    return df[filter_rows]"
   ]
  },
  {
   "cell_type": "code",
   "execution_count": 199,
   "id": "7397fd45",
   "metadata": {},
   "outputs": [
    {
     "name": "stdout",
     "output_type": "stream",
     "text": [
      "44286 rows have been dropped\n"
     ]
    }
   ],
   "source": [
    "# keeping samples that lasts at least 1 minute and at most 1 hour\n",
    "df_train_clean = remove_outliers(df_train)\n",
    "print(f\"{df_train.shape[0] - df_train_clean.shape[0]} rows have been dropped\")"
   ]
  },
  {
   "cell_type": "markdown",
   "id": "55380211",
   "metadata": {},
   "source": [
    "# Q3\n",
    "The features we'll use for our model are the pickup and dropoff location IDs.\n",
    "\n",
    "But they have a lot of missing values there. Let's replace them with \"-1\".\n",
    "\n",
    "What's the fractions of missing values for the pickup location ID? I.e. fraction of \"-1\"s after you filled the NAs.\n",
    "\n",
    "A) 53%\n",
    "B) 63%\n",
    "C) 73%\n",
    "D) 83%"
   ]
  },
  {
   "cell_type": "code",
   "execution_count": 200,
   "id": "95a4149a",
   "metadata": {},
   "outputs": [
    {
     "name": "stdout",
     "output_type": "stream",
     "text": [
      "83.53% of pickup location ID is missing\n"
     ]
    }
   ],
   "source": [
    "ave_pul_nan = df_train_clean['PUlocationID'].isna().mean()\n",
    "print(f\"{ave_pul_nan * 100:.2f}% of pickup location ID is missing\")"
   ]
  },
  {
   "cell_type": "markdown",
   "id": "1da2267c",
   "metadata": {},
   "source": [
    "**Answer: D**"
   ]
  },
  {
   "cell_type": "code",
   "execution_count": 201,
   "id": "c63c99b4",
   "metadata": {},
   "outputs": [],
   "source": [
    "categorical = ['PUlocationID', 'DOlocationID']\n",
    "\n",
    "def fillna_and_convert_to_str(df, categorical=categorical, fill_val='-1'):\n",
    "    df[categorical] = df[categorical].fillna(fill_val)\n",
    "    df[categorical] = df[categorical].astype(str)\n",
    "    return df"
   ]
  },
  {
   "cell_type": "code",
   "execution_count": 202,
   "id": "19be5441",
   "metadata": {},
   "outputs": [],
   "source": [
    "# replacing the missing values is '-1' in pickup and dropoff location IDs\n",
    "# and converting the rest of values in categorical features into string format from float 64\n",
    "# you can look at the datatypes under Q2\n",
    "\n",
    "df_train_clean = fillna_and_convert_to_str(df_train_clean)"
   ]
  },
  {
   "cell_type": "code",
   "execution_count": 203,
   "id": "857d7128",
   "metadata": {},
   "outputs": [
    {
     "data": {
      "text/plain": [
       "PUlocationID    object\n",
       "DOlocationID    object\n",
       "dtype: object"
      ]
     },
     "execution_count": 203,
     "metadata": {},
     "output_type": "execute_result"
    }
   ],
   "source": [
    "# check for datatypes\n",
    "df_train_clean[categorical].dtypes"
   ]
  },
  {
   "cell_type": "code",
   "execution_count": 204,
   "id": "055653c5",
   "metadata": {},
   "outputs": [
    {
     "data": {
      "text/plain": [
       "PUlocationID    0\n",
       "DOlocationID    0\n",
       "dtype: int64"
      ]
     },
     "execution_count": 204,
     "metadata": {},
     "output_type": "execute_result"
    }
   ],
   "source": [
    "# check for nan values\n",
    "nan_pul_dol = df_train_clean[categorical].isna().sum()\n",
    "nan_pul_dol"
   ]
  },
  {
   "cell_type": "markdown",
   "id": "bc67450f",
   "metadata": {},
   "source": [
    "# Q4\n",
    "Let's apply one-hot encoding to the pickup and dropoff location IDs. We'll use only these two features for our model.\n",
    "\n",
    "Turn the dataframe into a list of dictionaries\n",
    "Fit a dictionary vectorizer\n",
    "Get a feature matrix from it\n",
    "What's the dimensionality of this matrix? (The number of columns).\n",
    "\n",
    "A) 2\n",
    "B) 152\n",
    "C) 352\n",
    "D) 525\n",
    "E) 725"
   ]
  },
  {
   "cell_type": "code",
   "execution_count": 205,
   "id": "aaf9fa3d",
   "metadata": {},
   "outputs": [
    {
     "name": "stdout",
     "output_type": "stream",
     "text": [
      "Dimensionality is: 525\n"
     ]
    }
   ],
   "source": [
    "# turining training featurs into list of dictionaries\n",
    "train_dicts = df_train_clean[categorical].to_dict(orient='records')\n",
    "\n",
    "# fitting dictionary vectorizer to our training matrix and return transformed matrix\n",
    "dv = DictVectorizer()\n",
    "X_train = dv.fit_transform(train_dicts)\n",
    "\n",
    "target = 'duration_in_min'\n",
    "y_train = df_train_clean[target].values\n",
    "\n",
    "print(f'Dimensionality is: {X_train.shape[1]}')"
   ]
  },
  {
   "cell_type": "markdown",
   "id": "e9942062",
   "metadata": {},
   "source": [
    "**Answer: D**"
   ]
  },
  {
   "cell_type": "markdown",
   "id": "aa218fd0",
   "metadata": {},
   "source": [
    "# Q5\n",
    "Now let's use the feature matrix from the previous step to train a model.\n",
    "\n",
    "Train a plain linear regression model with default parameters\n",
    "Calculate the RMSE of the model on the training data\n",
    "What's the RMSE on train?\n",
    "\n",
    "A) 5.52\n",
    "B) 10.52\n",
    "C) 15.52\n",
    "D) 20.52"
   ]
  },
  {
   "cell_type": "code",
   "execution_count": 206,
   "id": "22cea522",
   "metadata": {},
   "outputs": [
    {
     "name": "stdout",
     "output_type": "stream",
     "text": [
      "Training Root Mean Squared Error for Linear Regression with default parameters: 10.53\n"
     ]
    }
   ],
   "source": [
    "lr = LinearRegression()\n",
    "lr.fit(X_train, y_train)\n",
    "\n",
    "y_pred = lr.predict(X_train)\n",
    "rmse = mean_squared_error(y_train, y_pred, squared=False)\n",
    "print(f\"Training Root Mean Squared Error for Linear Regression with default parameters: {rmse:.2f}\")"
   ]
  },
  {
   "cell_type": "markdown",
   "id": "c051d268",
   "metadata": {},
   "source": [
    "**Answer: B**"
   ]
  },
  {
   "cell_type": "markdown",
   "id": "0f82c340",
   "metadata": {},
   "source": [
    "# Q6\n",
    "Now let's apply this model to the validation dataset (Feb 2021).\n",
    "\n",
    "What's the RMSE on validation?\n",
    "\n",
    "A) 6.01\n",
    "B) 11.01\n",
    "C) 16.01\n",
    "D) 21.01"
   ]
  },
  {
   "cell_type": "markdown",
   "id": "67a297cf",
   "metadata": {},
   "source": [
    "Before doing the predictions, first we need to apply the transformations we did on the training features"
   ]
  },
  {
   "cell_type": "code",
   "execution_count": 215,
   "id": "5af987be",
   "metadata": {},
   "outputs": [
    {
     "data": {
      "text/html": [
       "<div>\n",
       "<style scoped>\n",
       "    .dataframe tbody tr th:only-of-type {\n",
       "        vertical-align: middle;\n",
       "    }\n",
       "\n",
       "    .dataframe tbody tr th {\n",
       "        vertical-align: top;\n",
       "    }\n",
       "\n",
       "    .dataframe thead th {\n",
       "        text-align: right;\n",
       "    }\n",
       "</style>\n",
       "<table border=\"1\" class=\"dataframe\">\n",
       "  <thead>\n",
       "    <tr style=\"text-align: right;\">\n",
       "      <th></th>\n",
       "      <th>dispatching_base_num</th>\n",
       "      <th>pickup_datetime</th>\n",
       "      <th>dropOff_datetime</th>\n",
       "      <th>PUlocationID</th>\n",
       "      <th>DOlocationID</th>\n",
       "      <th>SR_Flag</th>\n",
       "      <th>Affiliated_base_number</th>\n",
       "      <th>duration_in_min</th>\n",
       "    </tr>\n",
       "  </thead>\n",
       "  <tbody>\n",
       "    <tr>\n",
       "      <th>0</th>\n",
       "      <td>B00013</td>\n",
       "      <td>2021-02-01 00:01:00</td>\n",
       "      <td>2021-02-01 01:33:00</td>\n",
       "      <td>NaN</td>\n",
       "      <td>NaN</td>\n",
       "      <td>None</td>\n",
       "      <td>B00014</td>\n",
       "      <td>92.000000</td>\n",
       "    </tr>\n",
       "    <tr>\n",
       "      <th>1</th>\n",
       "      <td>B00021</td>\n",
       "      <td>2021-02-01 00:55:40</td>\n",
       "      <td>2021-02-01 01:06:20</td>\n",
       "      <td>173.0</td>\n",
       "      <td>82.0</td>\n",
       "      <td>None</td>\n",
       "      <td>B00021</td>\n",
       "      <td>10.666667</td>\n",
       "    </tr>\n",
       "    <tr>\n",
       "      <th>2</th>\n",
       "      <td>B00021</td>\n",
       "      <td>2021-02-01 00:14:03</td>\n",
       "      <td>2021-02-01 00:28:37</td>\n",
       "      <td>173.0</td>\n",
       "      <td>56.0</td>\n",
       "      <td>None</td>\n",
       "      <td>B00021</td>\n",
       "      <td>14.566667</td>\n",
       "    </tr>\n",
       "    <tr>\n",
       "      <th>3</th>\n",
       "      <td>B00021</td>\n",
       "      <td>2021-02-01 00:27:48</td>\n",
       "      <td>2021-02-01 00:35:45</td>\n",
       "      <td>82.0</td>\n",
       "      <td>129.0</td>\n",
       "      <td>None</td>\n",
       "      <td>B00021</td>\n",
       "      <td>7.950000</td>\n",
       "    </tr>\n",
       "    <tr>\n",
       "      <th>4</th>\n",
       "      <td>B00037</td>\n",
       "      <td>2021-02-01 00:12:50</td>\n",
       "      <td>2021-02-01 00:26:38</td>\n",
       "      <td>NaN</td>\n",
       "      <td>225.0</td>\n",
       "      <td>None</td>\n",
       "      <td>B00037</td>\n",
       "      <td>13.800000</td>\n",
       "    </tr>\n",
       "  </tbody>\n",
       "</table>\n",
       "</div>"
      ],
      "text/plain": [
       "  dispatching_base_num     pickup_datetime    dropOff_datetime  PUlocationID  \\\n",
       "0               B00013 2021-02-01 00:01:00 2021-02-01 01:33:00           NaN   \n",
       "1      B00021          2021-02-01 00:55:40 2021-02-01 01:06:20         173.0   \n",
       "2      B00021          2021-02-01 00:14:03 2021-02-01 00:28:37         173.0   \n",
       "3      B00021          2021-02-01 00:27:48 2021-02-01 00:35:45          82.0   \n",
       "4               B00037 2021-02-01 00:12:50 2021-02-01 00:26:38           NaN   \n",
       "\n",
       "   DOlocationID SR_Flag Affiliated_base_number  duration_in_min  \n",
       "0           NaN    None                 B00014        92.000000  \n",
       "1          82.0    None        B00021                 10.666667  \n",
       "2          56.0    None        B00021                 14.566667  \n",
       "3         129.0    None        B00021                  7.950000  \n",
       "4         225.0    None                 B00037        13.800000  "
      ]
     },
     "execution_count": 215,
     "metadata": {},
     "output_type": "execute_result"
    }
   ],
   "source": [
    "# read the validation data and calculate the duration in minutes\n",
    "\n",
    "df_val = read_df(val_path)\n",
    "df_val = calculate_duration_in_min(df_val)\n",
    "df_val.head()"
   ]
  },
  {
   "cell_type": "code",
   "execution_count": 216,
   "id": "a3aa2b59",
   "metadata": {},
   "outputs": [
    {
     "name": "stdout",
     "output_type": "stream",
     "text": [
      "Number of records in February data: 1037692\n"
     ]
    }
   ],
   "source": [
    "print(f'Number of records in February data: {df_val.shape[0]}')"
   ]
  },
  {
   "cell_type": "code",
   "execution_count": 217,
   "id": "d49602d6",
   "metadata": {},
   "outputs": [
    {
     "name": "stdout",
     "output_type": "stream",
     "text": [
      "47579 rows have been dropped\n"
     ]
    }
   ],
   "source": [
    "# keeping the records corresponding to duration between 1 minutes and 1 hour\n",
    "# filling missing values for in our features and converting into string format\n",
    "\n",
    "df_val_clean = remove_outliers(df_val)\n",
    "df_val_clean = fillna_and_convert_to_str(df_val_clean)\n",
    "\n",
    "print(f\"{df_val.shape[0] - df_val_clean.shape[0]} rows have been dropped\")"
   ]
  },
  {
   "cell_type": "code",
   "execution_count": 218,
   "id": "5e5b27ce",
   "metadata": {},
   "outputs": [
    {
     "name": "stdout",
     "output_type": "stream",
     "text": [
      "Validation Root Mean Squared Error for Linear Regression with default parameters: 11.01\n"
     ]
    }
   ],
   "source": [
    "# applying OHE to our features, predicting the duration and calculating validation RMSE\n",
    "\n",
    "val_dicts = df_val_clean[categorical].to_dict(orient='records')\n",
    "X_val = dv.transform(val_dicts)\n",
    "y_val = df_val_clean[target].values\n",
    "\n",
    "y_pred = lr.predict(X_val)\n",
    "rmse = mean_squared_error(y_val, y_pred, squared=False)\n",
    "print(f\"Validation Root Mean Squared Error for Linear Regression with default parameters: {rmse:.2f}\")"
   ]
  },
  {
   "cell_type": "markdown",
   "id": "1962e7b4",
   "metadata": {},
   "source": [
    "**Answer: B**"
   ]
  },
  {
   "cell_type": "code",
   "execution_count": null,
   "id": "71b64f7b",
   "metadata": {},
   "outputs": [],
   "source": []
  }
 ],
 "metadata": {
  "kernelspec": {
   "display_name": "mlops-env",
   "language": "python",
   "name": "mlops-env"
  },
  "language_info": {
   "codemirror_mode": {
    "name": "ipython",
    "version": 3
   },
   "file_extension": ".py",
   "mimetype": "text/x-python",
   "name": "python",
   "nbconvert_exporter": "python",
   "pygments_lexer": "ipython3",
   "version": "3.9.12"
  }
 },
 "nbformat": 4,
 "nbformat_minor": 5
}
